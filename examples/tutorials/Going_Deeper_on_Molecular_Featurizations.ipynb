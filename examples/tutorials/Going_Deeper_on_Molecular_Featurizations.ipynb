{
  "cells": [
    {
      "cell_type": "markdown",
      "metadata": {
        "id": "view-in-github",
        "colab_type": "text"
      },
      "source": [
        "<a href=\"https://colab.research.google.com/github/autowiki4/Deep-Chem-Tutorials/blob/main/examples/tutorials/Going_Deeper_on_Molecular_Featurizations.ipynb\" target=\"_parent\"><img src=\"https://colab.research.google.com/assets/colab-badge.svg\" alt=\"Open In Colab\"/></a>"
      ]
    },
    {
      "cell_type": "markdown",
      "metadata": {
        "id": "tTuYGOlnh117"
      },
      "source": [
        "#  Going Deeper On Molecular Featurizations\n",
        "\n",
        "One of the most important steps of doing machine learning on molecular data is transforming the data into a form amenable to the application of learning algorithms. This process is broadly called \"featurization\" and involves turning a molecule into a vector or tensor of some sort. There are a number of different ways of doing that, and the choice of featurization is often dependent on the problem at hand. We have already seen two such methods: molecular fingerprints, and `ConvMol` objects for use with graph convolutions. In this tutorial we will look at some of the others.\n",
        "\n",
        "## Colab\n",
        "\n",
        "This tutorial and the rest in this sequence can be done in Google colab. If you'd like to open this notebook in colab, you can use the following link.\n",
        "\n",
        "[![Open In Colab](https://colab.research.google.com/assets/colab-badge.svg)](https://colab.research.google.com/github/deepchem/deepchem/blob/master/examples/tutorials/Going_Deeper_on_Molecular_Featurizations.ipynb)\n",
        "\n"
      ]
    },
    {
      "cell_type": "code",
      "execution_count": 1,
      "metadata": {
        "colab": {
          "base_uri": "https://localhost:8080/",
          "height": 791
        },
        "id": "D43MbibL_EK0",
        "outputId": "7788b3b6-979a-460a-e8b1-411284e12d79"
      },
      "outputs": [
        {
          "output_type": "stream",
          "name": "stdout",
          "text": [
            "Collecting deepchem\n",
            "  Downloading deepchem-2.8.0-py3-none-any.whl.metadata (2.0 kB)\n",
            "Requirement already satisfied: joblib in /usr/local/lib/python3.11/dist-packages (from deepchem) (1.5.1)\n",
            "Requirement already satisfied: numpy>=1.21 in /usr/local/lib/python3.11/dist-packages (from deepchem) (2.0.2)\n",
            "Requirement already satisfied: pandas in /usr/local/lib/python3.11/dist-packages (from deepchem) (2.2.2)\n",
            "Requirement already satisfied: scikit-learn in /usr/local/lib/python3.11/dist-packages (from deepchem) (1.6.1)\n",
            "Requirement already satisfied: sympy in /usr/local/lib/python3.11/dist-packages (from deepchem) (1.13.1)\n",
            "Requirement already satisfied: scipy>=1.10.1 in /usr/local/lib/python3.11/dist-packages (from deepchem) (1.15.3)\n",
            "Collecting rdkit (from deepchem)\n",
            "  Downloading rdkit-2025.3.3-cp311-cp311-manylinux_2_28_x86_64.whl.metadata (4.0 kB)\n",
            "Requirement already satisfied: python-dateutil>=2.8.2 in /usr/local/lib/python3.11/dist-packages (from pandas->deepchem) (2.9.0.post0)\n",
            "Requirement already satisfied: pytz>=2020.1 in /usr/local/lib/python3.11/dist-packages (from pandas->deepchem) (2025.2)\n",
            "Requirement already satisfied: tzdata>=2022.7 in /usr/local/lib/python3.11/dist-packages (from pandas->deepchem) (2025.2)\n",
            "Requirement already satisfied: Pillow in /usr/local/lib/python3.11/dist-packages (from rdkit->deepchem) (11.2.1)\n",
            "Requirement already satisfied: threadpoolctl>=3.1.0 in /usr/local/lib/python3.11/dist-packages (from scikit-learn->deepchem) (3.6.0)\n",
            "Requirement already satisfied: mpmath<1.4,>=1.1.0 in /usr/local/lib/python3.11/dist-packages (from sympy->deepchem) (1.3.0)\n",
            "Requirement already satisfied: six>=1.5 in /usr/local/lib/python3.11/dist-packages (from python-dateutil>=2.8.2->pandas->deepchem) (1.17.0)\n",
            "Downloading deepchem-2.8.0-py3-none-any.whl (1.0 MB)\n",
            "\u001b[2K   \u001b[90m━━━━━━━━━━━━━━━━━━━━━━━━━━━━━━━━━━━━━━━━\u001b[0m \u001b[32m1.0/1.0 MB\u001b[0m \u001b[31m17.3 MB/s\u001b[0m eta \u001b[36m0:00:00\u001b[0m\n",
            "\u001b[?25hDownloading rdkit-2025.3.3-cp311-cp311-manylinux_2_28_x86_64.whl (34.9 MB)\n",
            "\u001b[2K   \u001b[90m━━━━━━━━━━━━━━━━━━━━━━━━━━━━━━━━━━━━━━━━\u001b[0m \u001b[32m34.9/34.9 MB\u001b[0m \u001b[31m36.5 MB/s\u001b[0m eta \u001b[36m0:00:00\u001b[0m\n",
            "\u001b[?25hInstalling collected packages: rdkit, deepchem\n",
            "Successfully installed deepchem-2.8.0 rdkit-2025.3.3\n"
          ]
        },
        {
          "output_type": "stream",
          "name": "stderr",
          "text": [
            "WARNING:deepchem.feat.molecule_featurizers.rdkit_descriptors:No normalization for SPS. Feature removed!\n",
            "WARNING:deepchem.feat.molecule_featurizers.rdkit_descriptors:No normalization for AvgIpc. Feature removed!\n",
            "WARNING:deepchem.feat.molecule_featurizers.rdkit_descriptors:No normalization for NumAmideBonds. Feature removed!\n",
            "WARNING:deepchem.feat.molecule_featurizers.rdkit_descriptors:No normalization for NumAtomStereoCenters. Feature removed!\n",
            "WARNING:deepchem.feat.molecule_featurizers.rdkit_descriptors:No normalization for NumBridgeheadAtoms. Feature removed!\n",
            "WARNING:deepchem.feat.molecule_featurizers.rdkit_descriptors:No normalization for NumHeterocycles. Feature removed!\n",
            "WARNING:deepchem.feat.molecule_featurizers.rdkit_descriptors:No normalization for NumSpiroAtoms. Feature removed!\n",
            "WARNING:deepchem.feat.molecule_featurizers.rdkit_descriptors:No normalization for NumUnspecifiedAtomStereoCenters. Feature removed!\n",
            "WARNING:deepchem.feat.molecule_featurizers.rdkit_descriptors:No normalization for Phi. Feature removed!\n",
            "\u001b[34m\u001b[1mwandb\u001b[0m: \u001b[33mWARNING\u001b[0m W&B installed but not logged in.  Run `wandb login` or set the WANDB_API_KEY env variable.\n",
            "WARNING:tensorflow:From /usr/local/lib/python3.11/dist-packages/tensorflow/python/util/deprecation.py:588: calling function (from tensorflow.python.eager.polymorphic_function.polymorphic_function) with experimental_relax_shapes is deprecated and will be removed in a future version.\n",
            "Instructions for updating:\n",
            "experimental_relax_shapes is deprecated, use reduce_retracing instead\n",
            "\u001b[34m\u001b[1mwandb\u001b[0m: \u001b[33mWARNING\u001b[0m W&B installed but not logged in.  Run `wandb login` or set the WANDB_API_KEY env variable.\n",
            "WARNING:deepchem.models.torch_models:Skipped loading modules with pytorch-geometric dependency, missing a dependency. No module named 'torch_geometric'\n",
            "WARNING:deepchem.models:Skipped loading modules with pytorch-geometric dependency, missing a dependency. cannot import name 'DMPNN' from 'deepchem.models.torch_models' (/usr/local/lib/python3.11/dist-packages/deepchem/models/torch_models/__init__.py)\n",
            "WARNING:deepchem.models:Skipped loading modules with pytorch-lightning dependency, missing a dependency. No module named 'lightning'\n",
            "WARNING:deepchem.models:Skipped loading some Jax models, missing a dependency. No module named 'haiku'\n"
          ]
        },
        {
          "output_type": "execute_result",
          "data": {
            "text/plain": [
              "'2.8.0'"
            ],
            "application/vnd.google.colaboratory.intrinsic+json": {
              "type": "string"
            }
          },
          "metadata": {},
          "execution_count": 1
        }
      ],
      "source": [
        "!pip install deepchem\n",
        "import deepchem\n",
        "import warnings\n",
        "warnings.filterwarnings('ignore')\n",
        "deepchem.__version__"
      ]
    },
    {
      "cell_type": "markdown",
      "metadata": {
        "id": "omxBgQVDh12B"
      },
      "source": [
        "## Featurizers\n",
        "\n",
        "In DeepChem, a method of featurizing a molecule (or any other sort of input) is defined by a `Featurizer` object.  There are three different ways of using featurizers.\n",
        "\n",
        "1. When using the MoleculeNet loader functions, you simply pass the name of the featurization method to use.  We have seen examples of this in earlier tutorials, such as `featurizer='ECFP'` or `featurizer='GraphConv'`.\n",
        "\n",
        "2. You also can create a Featurizer and directly apply it to molecules.  For example:"
      ]
    },
    {
      "cell_type": "code",
      "execution_count": 35,
      "metadata": {
        "colab": {
          "base_uri": "https://localhost:8080/"
        },
        "id": "Sp5Hbb4nh12C",
        "outputId": "f9ec3bf6-947a-41b0-c489-6e02c4acda04"
      },
      "outputs": [
        {
          "output_type": "stream",
          "name": "stdout",
          "text": [
            "[[0. 0. 0. ... 0. 0. 0.]\n",
            " [0. 0. 0. ... 0. 0. 0.]\n",
            " [0. 0. 0. ... 0. 0. 0.]]\n"
          ]
        },
        {
          "output_type": "stream",
          "name": "stderr",
          "text": [
            "[16:03:15] DEPRECATION WARNING: please use MorganGenerator\n",
            "[16:03:15] DEPRECATION WARNING: please use MorganGenerator\n",
            "[16:03:15] DEPRECATION WARNING: please use MorganGenerator\n"
          ]
        }
      ],
      "source": [
        "import deepchem as dc\n",
        "\n",
        "featurizer = dc.feat.CircularFingerprint()\n",
        "print(featurizer(['CC', 'CCC', 'CCO']))"
      ]
    },
    {
      "cell_type": "markdown",
      "metadata": {
        "id": "_bC1mPM4h12F"
      },
      "source": [
        "3. When creating a new dataset with the DataLoader framework, you can specify a Featurizer to use for processing the data.  We will see this in a future tutorial.\n",
        "\n",
        "We use propane (CH<sub>3</sub>CH<sub>2</sub>CH<sub>3</sub>, represented by the SMILES string `'CCC'`) as a running example throughout this tutorial. Many of the featurization methods use conformers of the molecules. A conformer can be generated using the `ConformerGenerator` class in `deepchem.utils.conformers`."
      ]
    },
    {
      "cell_type": "markdown",
      "metadata": {
        "id": "4D9z0slLh12G"
      },
      "source": [
        "### RDKitDescriptors"
      ]
    },
    {
      "cell_type": "markdown",
      "metadata": {
        "id": "oCfATWYIh12H"
      },
      "source": [
        "`RDKitDescriptors` featurizes a molecule by using RDKit to compute values for a list of descriptors. These are basic physical and chemical properties: molecular weight, polar surface area, numbers of hydrogen bond donors and acceptors, etc. This is most useful for predicting things that depend on these high level properties rather than on detailed molecular structure.\n",
        "\n",
        "Intrinsic to the featurizer is a set of allowed descriptors, which can be accessed using `RDKitDescriptors.allowedDescriptors`. The featurizer uses the descriptors in `rdkit.Chem.Descriptors.descList`, checks if they are in the list of allowed descriptors, and computes the descriptor value for the molecule.\n",
        "\n",
        "Let's print the values of the first ten descriptors for propane."
      ]
    },
    {
      "cell_type": "code",
      "execution_count": 36,
      "metadata": {
        "colab": {
          "base_uri": "https://localhost:8080/"
        },
        "id": "3dt_vjtXh12N",
        "outputId": "5401ab9b-ae46-403e-b3b1-4e15bc522ecd"
      },
      "outputs": [
        {
          "output_type": "stream",
          "name": "stdout",
          "text": [
            "MaxAbsEStateIndex 0.9182958340544894\n",
            "MaxEStateIndex 1.3523744386698802\n",
            "MinAbsEStateIndex -1.4760582438091696\n",
            "MinEStateIndex 1.55881365076144\n",
            "qed -1.2696136507614397\n",
            "SPS 3.9177136507614425\n",
            "MolWt 1.089286349238561\n",
            "HeavyAtomMolWt 13.425713650761436\n",
            "ExactMolWt 10.597286349238557\n",
            "NumValenceElectrons 1.6329931618554523\n"
          ]
        }
      ],
      "source": [
        "from rdkit.Chem.Descriptors import descList\n",
        "rdkit_featurizer = dc.feat.RDKitDescriptors()\n",
        "features = rdkit_featurizer(['CCC'])[0]\n",
        "descriptors = [i[0] for i in descList]\n",
        "for feature, descriptor in zip(features[:10], descriptors):\n",
        "    print(descriptor, feature)"
      ]
    },
    {
      "cell_type": "markdown",
      "metadata": {
        "id": "m7EgOn_Pe71C"
      },
      "source": [
        "Of course, there are many more descriptors than this."
      ]
    },
    {
      "cell_type": "code",
      "execution_count": 37,
      "metadata": {
        "colab": {
          "base_uri": "https://localhost:8080/"
        },
        "id": "KfyDpE81h12Q",
        "outputId": "89f6a09a-7ed4-4567-b203-087572e1c417"
      },
      "outputs": [
        {
          "output_type": "stream",
          "name": "stdout",
          "text": [
            "The number of descriptors present is:  217\n"
          ]
        }
      ],
      "source": [
        "print('The number of descriptors present is: ', len(features))"
      ]
    },
    {
      "cell_type": "markdown",
      "metadata": {
        "id": "41RwzbTth12U"
      },
      "source": [
        "### WeaveFeaturizer and MolGraphConvFeaturizer\n",
        "\n",
        "We previously looked at graph convolutions, which use `ConvMolFeaturizer` to convert molecules into `ConvMol` objects.  Graph convolutions are a special case of a large class of architectures that represent molecules as graphs.  They work in similar ways but vary in the details.  For example, they may associate data vectors with the atoms, the bonds connecting them, or both.  They may use a variety of techniques to calculate new data vectors from those in the previous layer, and a variety of techniques to compute molecule level properties at the end.\n",
        "\n",
        "DeepChem supports lots of different graph based models.  Some of them require molecules to be featurized in slightly different ways.  Because of this, there are two other featurizers called `WeaveFeaturizer` and `MolGraphConvFeaturizer`.  They each convert molecules into a different type of Python object that is used by particular models.  When using any graph based model, just check the documentation to see what featurizer you need to use with it."
      ]
    },
    {
      "cell_type": "markdown",
      "metadata": {
        "id": "SF3l5yJ4h12f"
      },
      "source": [
        "### CoulombMatrix\n",
        "\n",
        "All the models we have looked at so far consider only the intrinsic properties of a molecule: the list of atoms that compose it and the bonds connecting them.  When working with flexible molecules, you may also want to consider the different conformations the molecule can take on.  For example, when a drug molecule binds to a protein, the strength of the binding depends on specific interactions between pairs of atoms.  To predict binding strength, you probably want to consider a variety of possible conformations and use a model that takes them into account when making predictions.\n",
        "\n",
        "The Coulomb matrix is one popular featurization for molecular conformations.  Recall that the electrostatic Coulomb interaction between two charges is proportional to $q_1 q_2/r$ where $q_1$ and $q_2$ are the charges and $r$ is the distance between them.  For a molecule with $N$ atoms, the Coulomb matrix is a $N \\times N$ matrix where each element gives the strength of the electrostatic interaction between two atoms.  It contains information both about the charges on the atoms and the distances between them.  More information on the functional forms used can be found [here](https://journals.aps.org/prl/pdf/10.1103/PhysRevLett.108.058301).\n",
        "\n",
        "To apply this featurizer, we first need a set of conformations for the molecule.  We can use the `ConformerGenerator` class to do this.  It takes a RDKit molecule, generates a set of energy minimized conformers, and prunes the set to only include ones that are significantly different from each other.  Let's try running it for propane."
      ]
    },
    {
      "cell_type": "code",
      "execution_count": 38,
      "metadata": {
        "colab": {
          "base_uri": "https://localhost:8080/"
        },
        "id": "evLPEI6mh12g",
        "outputId": "e5ffcc53-55b0-43ca-8ff4-0adf525679a0"
      },
      "outputs": [
        {
          "output_type": "stream",
          "name": "stdout",
          "text": [
            "Number of available conformers for propane:  1\n"
          ]
        }
      ],
      "source": [
        "from rdkit import Chem\n",
        "\n",
        "generator = dc.utils.ConformerGenerator(max_conformers=5)\n",
        "propane_mol = generator.generate_conformers(Chem.MolFromSmiles('CCC'))\n",
        "print(\"Number of available conformers for propane: \", len(propane_mol.GetConformers()))"
      ]
    },
    {
      "cell_type": "markdown",
      "metadata": {
        "id": "Y5y8Qfghe71H"
      },
      "source": [
        "It only found a single conformer.  This shouldn't be surprising, since propane is a very small molecule with hardly any flexibility.  Let's try adding another carbon."
      ]
    },
    {
      "cell_type": "code",
      "execution_count": 39,
      "metadata": {
        "id": "x4G-rdZke71I",
        "outputId": "f70e4c4e-7184-4eb4-9aa4-b34f4b51005d",
        "colab": {
          "base_uri": "https://localhost:8080/"
        }
      },
      "outputs": [
        {
          "output_type": "stream",
          "name": "stdout",
          "text": [
            "Number of available conformers for butane:  3\n"
          ]
        }
      ],
      "source": [
        "butane_mol = generator.generate_conformers(Chem.MolFromSmiles('CCCC'))\n",
        "print(\"Number of available conformers for butane: \", len(butane_mol.GetConformers()))"
      ]
    },
    {
      "cell_type": "markdown",
      "metadata": {
        "id": "PqdKfeIYe71I"
      },
      "source": [
        "Now we can create a Coulomb matrix for our molecule."
      ]
    },
    {
      "cell_type": "code",
      "execution_count": 40,
      "metadata": {
        "colab": {
          "base_uri": "https://localhost:8080/"
        },
        "id": "pPIqy39Ih12i",
        "outputId": "30daf36d-2779-4b89-d530-3bbb72b19101"
      },
      "outputs": [
        {
          "output_type": "stream",
          "name": "stdout",
          "text": [
            "[[[36.8581052  12.4868446   7.56196913  2.85804526  2.8594516\n",
            "    2.85804538  1.46740146  1.46740146  1.14239721  1.14239681\n",
            "    0.91279492  0.          0.          0.          0.\n",
            "    0.          0.          0.          0.          0.        ]\n",
            "  [12.4868446  36.8581052  12.48684444  1.45850729  1.4655121\n",
            "    1.45850738  2.85689508  2.85689502  1.45850736  1.45850733\n",
            "    1.46551212  0.          0.          0.          0.\n",
            "    0.          0.          0.          0.          0.        ]\n",
            "  [ 7.56196913 12.48684444 36.8581052   1.14239701  0.9127949\n",
            "    1.14239697  1.46740146  1.46740146  2.85804543  2.85804544\n",
            "    2.85945197  0.          0.          0.          0.\n",
            "    0.          0.          0.          0.          0.        ]\n",
            "  [ 2.85804526  1.45850729  1.14239701  0.5         0.29325366\n",
            "    0.29200271  0.17113412  0.21092511  0.16800025  0.20540029\n",
            "    0.13960186  0.          0.          0.          0.\n",
            "    0.          0.          0.          0.          0.        ]\n",
            "  [ 2.8594516   1.4655121   0.9127949   0.29325366  0.5\n",
            "    0.29325366  0.21256976  0.21256978  0.13960188  0.13960185\n",
            "    0.1226839   0.          0.          0.          0.\n",
            "    0.          0.          0.          0.          0.        ]\n",
            "  [ 2.85804538  1.45850738  1.14239697  0.29200271  0.29325366\n",
            "    0.5         0.21092514  0.17113413  0.20540037  0.16800015\n",
            "    0.13960188  0.          0.          0.          0.\n",
            "    0.          0.          0.          0.          0.        ]\n",
            "  [ 1.46740146  2.85689508  1.46740146  0.17113412  0.21256976\n",
            "    0.21092514  0.5         0.29351303  0.21092509  0.17113413\n",
            "    0.2125698   0.          0.          0.          0.\n",
            "    0.          0.          0.          0.          0.        ]\n",
            "  [ 1.46740146  2.85689502  1.46740146  0.21092511  0.21256978\n",
            "    0.17113413  0.29351303  0.5         0.17113413  0.21092516\n",
            "    0.21256974  0.          0.          0.          0.\n",
            "    0.          0.          0.          0.          0.        ]\n",
            "  [ 1.14239721  1.45850736  2.85804543  0.16800025  0.13960188\n",
            "    0.20540037  0.21092509  0.17113413  0.5         0.29200274\n",
            "    0.29325368  0.          0.          0.          0.\n",
            "    0.          0.          0.          0.          0.        ]\n",
            "  [ 1.14239681  1.45850733  2.85804544  0.20540029  0.13960185\n",
            "    0.16800015  0.17113413  0.21092516  0.29200274  0.5\n",
            "    0.29325369  0.          0.          0.          0.\n",
            "    0.          0.          0.          0.          0.        ]\n",
            "  [ 0.91279492  1.46551212  2.85945197  0.13960186  0.1226839\n",
            "    0.13960188  0.2125698   0.21256974  0.29325368  0.29325369\n",
            "    0.5         0.          0.          0.          0.\n",
            "    0.          0.          0.          0.          0.        ]\n",
            "  [ 0.          0.          0.          0.          0.\n",
            "    0.          0.          0.          0.          0.\n",
            "    0.          0.          0.          0.          0.\n",
            "    0.          0.          0.          0.          0.        ]\n",
            "  [ 0.          0.          0.          0.          0.\n",
            "    0.          0.          0.          0.          0.\n",
            "    0.          0.          0.          0.          0.\n",
            "    0.          0.          0.          0.          0.        ]\n",
            "  [ 0.          0.          0.          0.          0.\n",
            "    0.          0.          0.          0.          0.\n",
            "    0.          0.          0.          0.          0.\n",
            "    0.          0.          0.          0.          0.        ]\n",
            "  [ 0.          0.          0.          0.          0.\n",
            "    0.          0.          0.          0.          0.\n",
            "    0.          0.          0.          0.          0.\n",
            "    0.          0.          0.          0.          0.        ]\n",
            "  [ 0.          0.          0.          0.          0.\n",
            "    0.          0.          0.          0.          0.\n",
            "    0.          0.          0.          0.          0.\n",
            "    0.          0.          0.          0.          0.        ]\n",
            "  [ 0.          0.          0.          0.          0.\n",
            "    0.          0.          0.          0.          0.\n",
            "    0.          0.          0.          0.          0.\n",
            "    0.          0.          0.          0.          0.        ]\n",
            "  [ 0.          0.          0.          0.          0.\n",
            "    0.          0.          0.          0.          0.\n",
            "    0.          0.          0.          0.          0.\n",
            "    0.          0.          0.          0.          0.        ]\n",
            "  [ 0.          0.          0.          0.          0.\n",
            "    0.          0.          0.          0.          0.\n",
            "    0.          0.          0.          0.          0.\n",
            "    0.          0.          0.          0.          0.        ]\n",
            "  [ 0.          0.          0.          0.          0.\n",
            "    0.          0.          0.          0.          0.\n",
            "    0.          0.          0.          0.          0.\n",
            "    0.          0.          0.          0.          0.        ]]]\n"
          ]
        }
      ],
      "source": [
        "coulomb_mat = dc.feat.CoulombMatrix(max_atoms=20)\n",
        "features = coulomb_mat(propane_mol)\n",
        "print(features)"
      ]
    },
    {
      "cell_type": "markdown",
      "metadata": {
        "id": "Uyq3Xk3sh12l"
      },
      "source": [
        "Notice that many elements are 0.  To combine multiple molecules in a batch we need all the Coulomb matrices to be the same size, even if the molecules have different numbers of atoms.  We specified `max_atoms=20`, so the returned matrix  has size (20, 20).  The molecule only has 11 atoms, so only an 11 by 11 submatrix is nonzero."
      ]
    },
    {
      "cell_type": "markdown",
      "metadata": {
        "id": "P-sGs7W2h12p"
      },
      "source": [
        "### CoulombMatrixEig"
      ]
    },
    {
      "cell_type": "markdown",
      "metadata": {
        "id": "9NTjtDUzh12p"
      },
      "source": [
        "An important feature of Coulomb matrices is that they are invariant to molecular rotation and translation, since the interatomic distances and atomic numbers do not change.  Respecting symmetries like this makes learning easier.  Rotating a molecule does not change its physical properties.  If the featurization does change, then the model is forced to learn that rotations are not important, but if the featurization is invariant then the model gets this property automatically.\n",
        "\n",
        "Coulomb matrices are not invariant under another important symmetry: permutations of the atoms' indices.  A molecule's physical properties do not depend on which atom we call \"atom 1\", but the Coulomb matrix does.  To deal with this, the `CoulumbMatrixEig` featurizer was introduced, which uses the eigenvalue spectrum of the Coulumb matrix and is invariant to random permutations of the atom's indices.  The disadvantage of this featurization is that it contains much less information ($N$ eigenvalues instead of an $N \\times N$ matrix), so models will be more limited in what they can learn.\n",
        "\n",
        "`CoulombMatrixEig` inherits from `CoulombMatrix` and featurizes a molecule by first computing the Coulomb matrices for different conformers of the molecule and then computing the eigenvalues for each Coulomb matrix. These eigenvalues are then padded to account for variation in number of atoms across molecules."
      ]
    },
    {
      "cell_type": "code",
      "execution_count": 41,
      "metadata": {
        "colab": {
          "base_uri": "https://localhost:8080/"
        },
        "id": "ga1-nNiWh12t",
        "outputId": "21c5faa7-00da-44d0-bf88-842ffee574fc"
      },
      "outputs": [
        {
          "output_type": "stream",
          "name": "stdout",
          "text": [
            "[[60.07620391 29.62963107 22.75497737  0.5713786   0.28781331  0.28548337\n",
            "   0.27558188  0.18163797  0.17460998  0.17059714  0.166401    0.\n",
            "   0.          0.          0.          0.          0.          0.\n",
            "   0.          0.        ]]\n"
          ]
        }
      ],
      "source": [
        "coulomb_mat_eig = dc.feat.CoulombMatrixEig(max_atoms=20)\n",
        "features = coulomb_mat_eig(propane_mol)\n",
        "print(features)"
      ]
    },
    {
      "cell_type": "markdown",
      "metadata": {
        "id": "BjKsXQ7oe71M"
      },
      "source": [
        "### SMILES Tokenization and Numericalization\n"
      ]
    },
    {
      "cell_type": "markdown",
      "metadata": {
        "id": "bCyc8lLKe71N"
      },
      "source": [
        "So far, we have looked at featurization techniques that translate the implicit structural and physical information in SMILES data into more explicit features that help our models learn and make predictions. In this section, we will preprocess SMILES strings into a format that can be fed to sequence models, such as 1D convolutional neural networks and transformers, and enables these models to learn their own representations of molecular properties.\n",
        "\n",
        "To prepare SMILES strings for a sequence model, we break them down into lists of substrings (called tokens) and turn them into lists of integer values (numericalization). Sequence models use those integer values as indices of an embedding matrix, which contains a vector of floating-point numbers for each token in the vocabulary. These embedding vectors are updated during model training. This process allows the sequence model to learn its own representations of the molecular properties implicit in the training data.\n",
        "\n",
        "We will use DeepChem's `BasicSmilesTokenizer` and the Tox21 dataset from MoleculeNet to demonstrate the process of tokenizing SMILES."
      ]
    },
    {
      "cell_type": "code",
      "execution_count": 55,
      "metadata": {
        "id": "opriMR82e71N"
      },
      "outputs": [],
      "source": [
        "import numpy as np"
      ]
    },
    {
      "cell_type": "code",
      "execution_count": 56,
      "metadata": {
        "id": "pzFLSPhle71O",
        "outputId": "88608502-bc25-446c-d9ef-e314d4fcc70e",
        "colab": {
          "base_uri": "https://localhost:8080/"
        }
      },
      "outputs": [
        {
          "output_type": "stream",
          "name": "stdout",
          "text": [
            "<DiskDataset X.shape: (np.int64(6258),), y.shape: (np.int64(6258), np.int64(12)), w.shape: (np.int64(6258), np.int64(12)), task_names: ['NR-AR' 'NR-AR-LBD' 'NR-AhR' ... 'SR-HSE' 'SR-MMP' 'SR-p53']>\n"
          ]
        }
      ],
      "source": [
        "tasks, datasets, transformers = dc.molnet.load_tox21(featurizer=\"Raw\")\n",
        "train_dataset, valid_dataset, test_dataset = datasets\n",
        "print(train_dataset)"
      ]
    },
    {
      "cell_type": "markdown",
      "metadata": {
        "id": "-yekidXte71O"
      },
      "source": [
        "We loaded the datasets with `featurizer=\"Raw\"`. Now we obtain the SMILES from their `ids` attributes."
      ]
    },
    {
      "cell_type": "code",
      "execution_count": 57,
      "metadata": {
        "id": "xXkOSx6_e71P",
        "outputId": "f3d6edd4-ae27-4c91-b1bb-3a27d8ca538b",
        "colab": {
          "base_uri": "https://localhost:8080/"
        }
      },
      "outputs": [
        {
          "output_type": "stream",
          "name": "stdout",
          "text": [
            "['CC(O)(P(=O)(O)O)P(=O)(O)O' 'CC(C)(C)OOC(C)(C)CCC(C)(C)OOC(C)(C)C'\n",
            " 'OC[C@H](O)[C@@H](O)[C@H](O)CO'\n",
            " 'CCCCCCCC(=O)[O-].CCCCCCCC(=O)[O-].[Zn+2]' 'CC(C)COC(=O)C(C)C']\n"
          ]
        }
      ],
      "source": [
        "train_smiles = train_dataset.ids\n",
        "valid_smiles = valid_dataset.ids\n",
        "test_smiles = test_dataset.ids\n",
        "print(train_smiles[:5])"
      ]
    },
    {
      "cell_type": "markdown",
      "metadata": {
        "id": "TQ0mqVlpe71P"
      },
      "source": [
        "Next we define our tokenizer and `map` it onto all our data to convert the SMILES strings into lists of tokens. The `BasicSmilesTokenizer` breaks down SMILES roughly at atom level."
      ]
    },
    {
      "cell_type": "code",
      "execution_count": 58,
      "metadata": {
        "id": "om5i4s90e71P",
        "outputId": "8ea1db08-cf1e-4e11-97a9-6f7424adb1e1",
        "colab": {
          "base_uri": "https://localhost:8080/"
        }
      },
      "outputs": [
        {
          "output_type": "stream",
          "name": "stdout",
          "text": [
            "['C', 'C', '(', 'O', ')', '(', 'P', '(', '=', 'O', ')', '(', 'O', ')', 'O', ')', 'P', '(', '=', 'O', ')', '(', 'O', ')', 'O']\n"
          ]
        },
        {
          "output_type": "execute_result",
          "data": {
            "text/plain": [
              "6258"
            ]
          },
          "metadata": {},
          "execution_count": 58
        }
      ],
      "source": [
        "tokenizer = dc.feat.smiles_tokenizer.BasicSmilesTokenizer()\n",
        "\n",
        "train_tok = list(map(tokenizer.tokenize, train_smiles))\n",
        "valid_tok = list(map(tokenizer.tokenize, valid_smiles))\n",
        "test_tok = list(map(tokenizer.tokenize, test_smiles))\n",
        "print(train_tok[0])\n",
        "len(train_tok)"
      ]
    },
    {
      "cell_type": "markdown",
      "metadata": {
        "id": "gxpw1_Lme71Q"
      },
      "source": [
        "Now we have tokenized versions of all SMILES strings in our dataset. To convert those into lists of integer values we first need to create a list of all possible tokens in our dataset. That list is called the vocabulary. We also add the empty string `\"\"` to our vocabulary in order to correctly handle trailing zeros when decoding zero-padded numericalized SMILES."
      ]
    },
    {
      "cell_type": "code",
      "execution_count": 59,
      "metadata": {
        "id": "ln7dWufFe71Q",
        "outputId": "cfd8dae7-a38b-4f11-fb8c-ef338a74d9b1",
        "colab": {
          "base_uri": "https://localhost:8080/"
        }
      },
      "outputs": [
        {
          "output_type": "stream",
          "name": "stdout",
          "text": [
            "['', '#', '(', ')', '-', '.', '/', '1', '2', '3', '4', '5'] ... ['[n+]', '[n-]', '[nH+]', '[nH]', '[o+]', '[s+]', '[se]', '\\\\', 'c', 'n', 'o', 's']\n"
          ]
        },
        {
          "output_type": "execute_result",
          "data": {
            "text/plain": [
              "127"
            ]
          },
          "metadata": {},
          "execution_count": 59
        }
      ],
      "source": [
        "flatten = lambda l: [item for items in l for item in items]\n",
        "\n",
        "all_toks = flatten(train_tok) + flatten(valid_tok) + flatten(test_tok)\n",
        "vocab = sorted(set(all_toks + [\"\"]))\n",
        "print(vocab[:12], \"...\", vocab[-12:])\n",
        "len(vocab)"
      ]
    },
    {
      "cell_type": "markdown",
      "metadata": {
        "id": "CPq9Bvqse71Q"
      },
      "source": [
        "To numericalize tokenized SMILES strings we create a `str2int` dictionary which assigns a number to each token in the dictionary. We also create the reverse `int2str` dictionary and define the corresponding `encode` and `decode` functions. Finally we `map` the `encode` function on the tokenized data to obtain numericalized SMILES data."
      ]
    },
    {
      "cell_type": "code",
      "execution_count": 60,
      "metadata": {
        "id": "LSDf3D4ue71R",
        "outputId": "68728318-09cf-4b71-f971-555f0bfe4829",
        "colab": {
          "base_uri": "https://localhost:8080/"
        }
      },
      "outputs": [
        {
          "output_type": "stream",
          "name": "stdout",
          "text": [
            "str2int: {'': 0, '#': 1, '(': 2, ')': 3, '-': 4} ...\n",
            "int2str: {0: '', 1: '#', 2: '(', 3: ')', 4: '-'} ...\n"
          ]
        }
      ],
      "source": [
        "str2int = {s:i for i, s in enumerate(vocab)}\n",
        "int2str = {i:s for i, s in enumerate(vocab)}\n",
        "print(f\"str2int: {dict(list(str2int.items())[:5])} ...\")\n",
        "print(f\"int2str: {dict(list(int2str.items())[:5])} ...\")"
      ]
    },
    {
      "cell_type": "code",
      "execution_count": 61,
      "metadata": {
        "id": "X5oj9I3je71R",
        "outputId": "e9ab55a9-1296-45c5-87a8-5fcae781807e",
        "colab": {
          "base_uri": "https://localhost:8080/"
        }
      },
      "outputs": [
        {
          "output_type": "stream",
          "name": "stdout",
          "text": [
            "CC(O)(P(=O)(O)O)P(=O)(O)O\n",
            "[19, 19, 2, 24, 3, 2, 25, 2, 16, 24, 3, 2, 24, 3, 24, 3, 25, 2, 16, 24, 3, 2, 24, 3, 24]\n",
            "CC(O)(P(=O)(O)O)P(=O)(O)O\n"
          ]
        }
      ],
      "source": [
        "encode = lambda s: [str2int[tok] for tok in s]\n",
        "decode = lambda i: [int2str[num] for num in i]\n",
        "print(train_smiles[0])\n",
        "print(encode(train_tok[0]))\n",
        "print(\"\".join(decode(encode(train_tok[0]))))"
      ]
    },
    {
      "cell_type": "code",
      "execution_count": 62,
      "metadata": {
        "id": "rNnb2mOge71S",
        "outputId": "fb72c7ec-2320-45c9-d3e5-c381e8bd476a",
        "colab": {
          "base_uri": "https://localhost:8080/"
        }
      },
      "outputs": [
        {
          "output_type": "stream",
          "name": "stdout",
          "text": [
            "[19, 19, 2, 24, 3, 2, 25, 2, 16, 24, 3, 2, 24, 3, 24, 3, 25, 2, 16, 24, 3, 2, 24, 3, 24]\n"
          ]
        }
      ],
      "source": [
        "train_num = list(map(encode, train_tok))\n",
        "valid_num = list(map(encode, valid_tok))\n",
        "test_num = list(map(encode, test_tok))\n",
        "print(train_num[0])"
      ]
    },
    {
      "cell_type": "markdown",
      "metadata": {
        "id": "IExU6A9ne71S"
      },
      "source": [
        "Lastly, we would like to combine all molecules in a dataset in an `np.array` so they can be served to a model in batches. To achieve that, all sequences have to be of the same length. As in the CoulombMatrix section, we achieve that by appending zeros up to a fixed value."
      ]
    },
    {
      "cell_type": "code",
      "execution_count": 63,
      "metadata": {
        "id": "iZyMEK1ye71S",
        "outputId": "5dc7a486-38f2-40df-f603-aa43dd327f9f",
        "colab": {
          "base_uri": "https://localhost:8080/"
        }
      },
      "outputs": [
        {
          "output_type": "execute_result",
          "data": {
            "text/plain": [
              "240"
            ]
          },
          "metadata": {},
          "execution_count": 63
        }
      ],
      "source": [
        "max_len = max(map(len, train_num + valid_num + test_num))\n",
        "max_len"
      ]
    },
    {
      "cell_type": "markdown",
      "metadata": {
        "id": "PNkTevd9e71T"
      },
      "source": [
        "The longest sequence across all Tox21 datasets has length `240`, so we use that as our fixed length. We create a `zero_pad` function,  `map` it to all numericalized SMILES, and turn them into `np.array`s."
      ]
    },
    {
      "cell_type": "code",
      "execution_count": 64,
      "metadata": {
        "id": "77_pDyihe71U",
        "outputId": "b5e082eb-4b37-423b-a373-18087f79040e",
        "colab": {
          "base_uri": "https://localhost:8080/"
        }
      },
      "outputs": [
        {
          "output_type": "execute_result",
          "data": {
            "text/plain": [
              "array([[19, 19,  2, ...,  0,  0,  0],\n",
              "       [19, 19,  2, ...,  0,  0,  0],\n",
              "       [24, 19, 41, ...,  0,  0,  0],\n",
              "       ...,\n",
              "       [19, 19,  2, ...,  0,  0,  0],\n",
              "       [19, 19,  2, ...,  0,  0,  0],\n",
              "       [23,  1, 19, ...,  0,  0,  0]])"
            ]
          },
          "metadata": {},
          "execution_count": 64
        }
      ],
      "source": [
        "zero_pad = lambda x: x + [0] * (max_len - len(x))\n",
        "\n",
        "train_numpad = np.array(list(map(zero_pad, train_num)))\n",
        "valid_numpad = np.array(list(map(zero_pad, valid_num)))\n",
        "test_numpad = np.array(list(map(zero_pad, test_num)))\n",
        "train_numpad"
      ]
    },
    {
      "cell_type": "markdown",
      "metadata": {
        "id": "98vOXN1Ke71f"
      },
      "source": [
        "We can check that the zero-padded data still converts back to the correct SMILES string using the `decode` function on a random datapoint."
      ]
    },
    {
      "cell_type": "code",
      "execution_count": 65,
      "metadata": {
        "id": "JmfOOUFse71g",
        "outputId": "4b2983f4-940b-409a-f8e2-71f53b2ce666",
        "colab": {
          "base_uri": "https://localhost:8080/"
        }
      },
      "outputs": [
        {
          "output_type": "stream",
          "name": "stdout",
          "text": [
            "C=C(C)C(=O)OC\n",
            "C=C(C)C(=O)OC\n"
          ]
        }
      ],
      "source": [
        "idx = np.random.randint(0, train_numpad.shape[0], 1).item()\n",
        "print(train_smiles[idx])\n",
        "print(\"\".join(decode(train_numpad[idx])))"
      ]
    },
    {
      "cell_type": "markdown",
      "metadata": {
        "id": "VgJ9GjO_e71i"
      },
      "source": [
        "The padded data passes the test. It is now in the correct format to be used for training of a sequence model, but it doesn't yet interface nicely with DeepChem's training framework. To change that, we define a `tokenize_smiles` function that combines all the steps spelled out above to process a single datapoint. Additionally, we define a `SmilesFeaturizer` that uses our custom `tokenize_smiles` function in its `_featurize` method and instanciate it as `smiles_featurizer` passing it our `vocab` and `max_len`."
      ]
    },
    {
      "cell_type": "code",
      "execution_count": 66,
      "metadata": {
        "id": "Fojph6bZe71j"
      },
      "outputs": [],
      "source": [
        "def tokenize_smiles(x, vocab, max_len):\n",
        "    tokenizer = dc.feat.smiles_tokenizer.BasicSmilesTokenizer()\n",
        "    str2int = {s:i for i, s in enumerate(vocab)}\n",
        "    encode = lambda s: [str2int.get(tok, str2int[\"\"]) for tok in s]\n",
        "    # zero_pad = lambda x: x + [0] * (max_len - len(x))\n",
        "    # x = tokenizer.tokenize(x)\n",
        "    # x = encode(x)\n",
        "    # x = zero_pad(x)\n",
        "    # return np.array(x)\n",
        "    try:\n",
        "        tokens = tokenizer.tokenize(x)\n",
        "        encoded = encode(tokens[:max_len])  # clip to max_len\n",
        "        padded = encoded + [0] * (max_len - len(encoded))  # pad to max_len\n",
        "        return np.array(padded)\n",
        "    except:\n",
        "        return np.array([])  # return empty array on failure\n",
        "\n",
        "class SmilesFeaturizer(dc.feat.Featurizer):\n",
        "    def __init__(self, feat_func, vocab, max_len):\n",
        "        self.feat_func = feat_func\n",
        "        self.vocab = vocab\n",
        "        self.max_len = max_len\n",
        "\n",
        "    def _featurize(self, x):\n",
        "        return self.feat_func(x, self.vocab, self.max_len)\n",
        "\n",
        "smiles_featurizer = SmilesFeaturizer(tokenize_smiles, vocab, max_len)"
      ]
    },
    {
      "cell_type": "markdown",
      "metadata": {
        "id": "2jEoCCNKe71j"
      },
      "source": [
        "Finally, we use the `smiles_featurizer` to create new Tox21 datasets that contain tokenized and numericalized SMILES in their `X` attribute."
      ]
    },
    {
      "cell_type": "code",
      "execution_count": 67,
      "metadata": {
        "id": "8bflijvOe71l",
        "outputId": "25ddc98a-da73-4d53-b10e-d0b3517f325a",
        "colab": {
          "base_uri": "https://localhost:8080/"
        }
      },
      "outputs": [
        {
          "output_type": "stream",
          "name": "stderr",
          "text": [
            "[16:11:53] WARNING: not removing hydrogen atom without neighbors\n",
            "[16:11:53] Explicit valence for atom # 8 Al, 6, is greater than permitted\n",
            "[16:11:54] Explicit valence for atom # 3 Al, 6, is greater than permitted\n",
            "[16:11:54] Explicit valence for atom # 4 Al, 6, is greater than permitted\n",
            "[16:11:54] Explicit valence for atom # 4 Al, 6, is greater than permitted\n",
            "[16:11:55] Explicit valence for atom # 9 Al, 6, is greater than permitted\n",
            "[16:11:55] Explicit valence for atom # 5 Al, 6, is greater than permitted\n",
            "[16:11:55] Explicit valence for atom # 16 Al, 6, is greater than permitted\n",
            "[16:11:55] Explicit valence for atom # 20 Al, 6, is greater than permitted\n"
          ]
        },
        {
          "output_type": "stream",
          "name": "stdout",
          "text": [
            "[[ 19  19   2 ...   0   0   0]\n",
            " [ 19  19   2 ...   0   0   0]\n",
            " [ 24  19  41 ...   0   0   0]\n",
            " ...\n",
            " [ 19  19  19 ...   0   0   0]\n",
            " [ 19  39   2 ...   0   0   0]\n",
            " [ 19 123   7 ...   0   0   0]]\n"
          ]
        }
      ],
      "source": [
        "tasks, datasets, transformers = dc.molnet.load_tox21(featurizer=smiles_featurizer)\n",
        "print(datasets[0].X)"
      ]
    },
    {
      "cell_type": "markdown",
      "metadata": {
        "id": "3UOnVknWe71m"
      },
      "source": [
        "The datasets are now ready to be used with your custom DeepChem sequence model. Don't forget to wrap your model into the appropriate DeepChem model class."
      ]
    },
    {
      "cell_type": "markdown",
      "metadata": {
        "id": "wssi6cBmh12z"
      },
      "source": [
        "# Congratulations! Time to join the Community!\n",
        "\n",
        "Congratulations on completing this tutorial notebook! If you enjoyed working through the tutorial, and want to continue working with DeepChem, we encourage you to finish the rest of the tutorials in this series. You can also help the DeepChem community in the following ways:\n",
        "\n",
        "## Star DeepChem on [GitHub](https://github.com/deepchem/deepchem)\n",
        "This helps build awareness of the DeepChem project and the tools for open source drug discovery that we're trying to build.\n",
        "\n",
        "## Join the DeepChem Gitter\n",
        "The DeepChem [Gitter](https://gitter.im/deepchem/Lobby) hosts a number of scientists, developers, and enthusiasts interested in deep learning for the life sciences. Join the conversation!"
      ]
    },
    {
      "cell_type": "markdown",
      "metadata": {
        "id": "pOBd6-YdQSvF"
      },
      "source": [
        "## Citing This Tutorial\n",
        "If you found this tutorial useful please consider citing it using the provided BibTeX."
      ]
    },
    {
      "cell_type": "code",
      "execution_count": null,
      "metadata": {
        "id": "KZUk_9yIYw0c"
      },
      "outputs": [],
      "source": [
        "@manual{Intro7,\n",
        " title={Going Deeper on Molecular Featurizations},\n",
        " organization={DeepChem},\n",
        " author={Ramsundar, Bharath},\n",
        " howpublished = {\\url{https://github.com/deepchem/deepchem/blob/master/examples/tutorials/Going_Deeper_on_Molecular_Featurizations.ipynb}},\n",
        " year={2021},\n",
        "}"
      ]
    }
  ],
  "metadata": {
    "colab": {
      "name": "06_Going_Deeper_on_Molecular_Featurizations.ipynb",
      "provenance": [],
      "include_colab_link": true
    },
    "kernelspec": {
      "display_name": "Python 3 (ipykernel)",
      "language": "python",
      "name": "python3"
    },
    "language_info": {
      "codemirror_mode": {
        "name": "ipython",
        "version": 3
      },
      "file_extension": ".py",
      "mimetype": "text/x-python",
      "name": "python",
      "nbconvert_exporter": "python",
      "pygments_lexer": "ipython3",
      "version": "3.12.3"
    }
  },
  "nbformat": 4,
  "nbformat_minor": 0
}